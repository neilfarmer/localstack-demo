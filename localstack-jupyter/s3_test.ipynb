{
 "cells": [
  {
   "attachments": {},
   "cell_type": "markdown",
   "metadata": {},
   "source": [
    "# Imports"
   ]
  },
  {
   "cell_type": "code",
   "execution_count": 15,
   "metadata": {},
   "outputs": [],
   "source": [
    "import boto3\n",
    "from colorama import Fore, Style\n",
    "import localstack_client.session as ls_boto3\n",
    "import randomname\n",
    "from pprint import pprint\n",
    "\n",
    "BUCKET_NAME = randomname.get_name()\n",
    "\n",
    "client = ls_boto3.client(\"s3\")"
   ]
  },
  {
   "attachments": {},
   "cell_type": "markdown",
   "metadata": {},
   "source": [
    "# Make S3 Api calls"
   ]
  },
  {
   "cell_type": "code",
   "execution_count": 16,
   "metadata": {},
   "outputs": [
    {
     "name": "stdout",
     "output_type": "stream",
     "text": [
      "'/frayed-take'\n",
      "200\n"
     ]
    }
   ],
   "source": [
    "# Create bucket\n",
    "response = client.create_bucket(Bucket=BUCKET_NAME)\n",
    "pprint(response['Location'])\n",
    "pprint(response['ResponseMetadata']['HTTPStatusCode'])"
   ]
  },
  {
   "cell_type": "code",
   "execution_count": 19,
   "metadata": {},
   "outputs": [
    {
     "name": "stdout",
     "output_type": "stream",
     "text": [
      "bite-my-shiny-metal-ass\n",
      "kill-all-humans\n",
      "grizzled-frog\n"
     ]
    }
   ],
   "source": [
    "# List buckets\n",
    "response = client.list_buckets()\n",
    "for bucket in response['Buckets']:\n",
    "    print(bucket['Name'])"
   ]
  },
  {
   "cell_type": "code",
   "execution_count": 18,
   "metadata": {},
   "outputs": [
    {
     "name": "stdout",
     "output_type": "stream",
     "text": [
      "{'ResponseMetadata': {'HTTPHeaders': {'access-control-allow-headers': 'authorization,cache-control,content-length,content-md5,content-type,etag,location,x-amz-acl,x-amz-content-sha256,x-amz-date,x-amz-request-id,x-amz-security-token,x-amz-tagging,x-amz-target,x-amz-user-agent,x-amz-version-id,x-amzn-requestid,x-localstack-target,amz-sdk-invocation-id,amz-sdk-request',\n",
      "                                      'access-control-allow-methods': 'HEAD,GET,PUT,POST,DELETE,OPTIONS,PATCH',\n",
      "                                      'access-control-allow-origin': '*',\n",
      "                                      'access-control-expose-headers': 'etag,x-amz-version-id',\n",
      "                                      'connection': 'close',\n",
      "                                      'content-type': 'text/html; '\n",
      "                                                      'charset=utf-8',\n",
      "                                      'date': 'Sun, 12 Mar 2023 21:24:51 GMT, '\n",
      "                                              'Sun, 12 Mar 2023 21:24:51 GMT',\n",
      "                                      'last-modified': 'Sun, 12 Mar 2023 '\n",
      "                                                       '21:24:51 GMT',\n",
      "                                      'server': 'Werkzeug/2.1.2 Python/3.10.8, '\n",
      "                                                'hypercorn-h11',\n",
      "                                      'x-amz-id-2': 'MzRISOwyjmnupA8F52EBE13DE11717/JypPGXLh0OVFGcJaaO3KW/hRAqKOpIEEp',\n",
      "                                      'x-amz-request-id': 'A8F52EBE13DE1171',\n",
      "                                      'x-amzn-requestid': 'CwsniXbbB5uCIbg3lGqTOgGG675iQb2AgvntaS4vxIk2qPlEXCg6'},\n",
      "                      'HTTPStatusCode': 204,\n",
      "                      'RequestId': 'CwsniXbbB5uCIbg3lGqTOgGG675iQb2AgvntaS4vxIk2qPlEXCg6',\n",
      "                      'RetryAttempts': 0}}\n"
     ]
    }
   ],
   "source": [
    "# Delete buckets\n",
    "response = client.delete_bucket(Bucket=BUCKET_NAME)\n",
    "pprint(response)"
   ]
  }
 ],
 "metadata": {
  "kernelspec": {
   "display_name": ".venv",
   "language": "python",
   "name": "python3"
  },
  "language_info": {
   "codemirror_mode": {
    "name": "ipython",
    "version": 3
   },
   "file_extension": ".py",
   "mimetype": "text/x-python",
   "name": "python",
   "nbconvert_exporter": "python",
   "pygments_lexer": "ipython3",
   "version": "3.10.10"
  },
  "orig_nbformat": 4
 },
 "nbformat": 4,
 "nbformat_minor": 2
}
